{
 "cells": [
  {
   "cell_type": "markdown",
   "id": "2a6e330e",
   "metadata": {},
   "source": [
    "1. Single Shot Detector (SSD)\n",
    "\n",
    "2. **COCO** stands for **Common Objects in Context**, as the image dataset was created with the goal of advancing image recognition. The COCO dataset contains challenging, high-quality visual datasets for computer vision, mostly state-of-the-art neural networks.\n",
    "\n",
    "3. **frozen_inference_graph.pb**, is a frozen graph that cannot be trained anymore"
   ]
  },
  {
   "cell_type": "code",
   "execution_count": 54,
   "id": "95061182",
   "metadata": {},
   "outputs": [],
   "source": [
    "import cv2\n",
    "import matplotlib.pyplot as plt"
   ]
  },
  {
   "cell_type": "code",
   "execution_count": 55,
   "id": "25d11e6e",
   "metadata": {},
   "outputs": [],
   "source": [
    "config_file='ssd_mobilenet_v3_large_coco_2020_01_14.pbtxt'\n",
    "frozen_model='frozen_inference_graph.pb'\n",
    "label='labels.txt'"
   ]
  },
  {
   "cell_type": "code",
   "execution_count": 56,
   "id": "2f2261e3",
   "metadata": {},
   "outputs": [],
   "source": [
    "model=cv2.dnn_DetectionModel(frozen_model,config_file)"
   ]
  },
  {
   "cell_type": "code",
   "execution_count": 57,
   "id": "37d173c6",
   "metadata": {},
   "outputs": [],
   "source": [
    "class_labels=[]\n",
    "\n",
    "with open(label,'rt') as file:\n",
    "    class_labels=file.read().rstrip('\\n').split('\\n')"
   ]
  },
  {
   "cell_type": "code",
   "execution_count": null,
   "id": "fdec36e7",
   "metadata": {},
   "outputs": [],
   "source": [
    "print(class_labels)"
   ]
  },
  {
   "cell_type": "code",
   "execution_count": null,
   "id": "bfc0fdb4",
   "metadata": {},
   "outputs": [],
   "source": [
    "len(class_labels)"
   ]
  },
  {
   "cell_type": "code",
   "execution_count": null,
   "id": "3bca5258",
   "metadata": {},
   "outputs": [],
   "source": [
    "255/2"
   ]
  },
  {
   "cell_type": "code",
   "execution_count": null,
   "id": "1fce0238",
   "metadata": {},
   "outputs": [],
   "source": [
    "model.setInputSize(320,320) # set size for image frame\n",
    "model.setInputScale(1.0/127.5)   # set scale value for frame\n",
    "model.setInputMean((127.5,127,5,127.5))         # set mean value for frame \n",
    "model.setInputSwapRB(True)  # It will swap R and B in BGR color channel and make it RGB\n"
   ]
  },
  {
   "cell_type": "code",
   "execution_count": null,
   "id": "281ae36e",
   "metadata": {},
   "outputs": [],
   "source": [
    "img=cv2.imread('man with.jpeg',1)\n",
    "plt.imshow(cv2.cvtColor(img,cv2.COLOR_BGR2RGB))"
   ]
  },
  {
   "cell_type": "code",
   "execution_count": 63,
   "id": "4faaa4b8",
   "metadata": {},
   "outputs": [],
   "source": [
    "class_index,confidence,bbox=model.detect(img,confThreshold=0.5)"
   ]
  },
  {
   "cell_type": "code",
   "execution_count": null,
   "id": "6e1e701a",
   "metadata": {},
   "outputs": [],
   "source": [
    "print(class_index)"
   ]
  },
  {
   "cell_type": "code",
   "execution_count": null,
   "id": "c7dc7f0b",
   "metadata": {},
   "outputs": [],
   "source": [
    "print(confidence)"
   ]
  },
  {
   "cell_type": "code",
   "execution_count": null,
   "id": "e7231d79",
   "metadata": {},
   "outputs": [],
   "source": [
    "print(type(confidence))"
   ]
  },
  {
   "cell_type": "code",
   "execution_count": null,
   "id": "702c8126",
   "metadata": {},
   "outputs": [],
   "source": [
    "print(bbox)"
   ]
  },
  {
   "cell_type": "code",
   "execution_count": 68,
   "id": "0f9b2d06",
   "metadata": {},
   "outputs": [
    {
     "name": "stdout",
     "output_type": "stream",
     "text": [
      "<class 'numpy.ndarray'>\n"
     ]
    }
   ],
   "source": [
    "print(type(bbox))"
   ]
  },
  {
   "cell_type": "code",
   "execution_count": 78,
   "id": "4efb086a",
   "metadata": {},
   "outputs": [],
   "source": [
    "font_scale=0.5\n",
    "font=cv2.FONT_HERSHEY_SIMPLEX\n",
    "\n",
    "for classind,conf,box in zip(class_index.flatten(),confidence.flatten(),bbox ):\n",
    "    cv2.rectangle(img,box,(255,0,0),1)\n",
    "    cv2.putText(img,class_labels[classind-1],(box[0]+10,box[1]+40),font,font_scale,(0,255,0),1)"
   ]
  },
  {
   "cell_type": "code",
   "execution_count": null,
   "id": "b153b76f",
   "metadata": {},
   "outputs": [],
   "source": [
    "plt.imshow(cv2.cvtColor(img,cv2.COLOR_BGR2RGB))"
   ]
  },
  {
   "cell_type": "code",
   "execution_count": 82,
   "id": "c249581e",
   "metadata": {},
   "outputs": [
    {
     "name": "stdout",
     "output_type": "stream",
     "text": [
      "[1 6 1 1 1 1]\n",
      "[1 6 1 1 1 1]\n",
      "[1 6 1 1 1 1]\n",
      "[6 1 1 1 1]\n",
      "[6 1 2 1 1 1]\n",
      "[6 1 2 1 1 1 1]\n",
      "[6 1 1 1 1 1 2 1]\n",
      "[6 1 1 1 2 1]\n",
      "[6 1 1 1 2]\n",
      "[6 1 1 1 1 2]\n",
      "[6 1 1 1 1]\n",
      "[6 1 1 1 2 1 2]\n",
      "[6 1 1 1]\n",
      "[6 1 1 1]\n",
      "[6 1 1 1]\n",
      "[6 1 1 1 1]\n",
      "[6 1 1 1 1]\n",
      "[6 1 1 1]\n",
      "[6 1 1 1]\n",
      "[6 1 1 1]\n",
      "[6 1 1 1]\n",
      "[6 1 1 1 1]\n",
      "[6 1 1 1 1 1]\n",
      "[6 1 1 1 1 1]\n",
      "[6 1 1 1]\n",
      "[6 1 1 1 1 1]\n",
      "[6 1 1 1 1 6 1]\n",
      "[6 1 1 1 1]\n",
      "[6 1 1 6 1 1]\n",
      "[6 1 1 1 6 1 1 1]\n",
      "[6 1 1 6 1 1]\n",
      "[6 6 1 1 1 1 1]\n",
      "[6 6 1 1 1]\n",
      "[6 1 1 1 1]\n",
      "[6 1 1 1]\n",
      "[6 1 1 1]\n",
      "[6 6 1 1 1]\n",
      "[6 6 1 1 1 1]\n",
      "[6 6 1 1]\n",
      "[6 1 6 1]\n",
      "[6 1 1 1 6]\n",
      "[6 1 1 1 1]\n",
      "[6 1 1 1]\n",
      "[6 1 1]\n",
      "[1 6 1 1 1 1]\n",
      "[1 6 1 1 1]\n",
      "[1 6 1 1]\n",
      "[1 6 1 1]\n",
      "[1 6 1 1]\n",
      "[1 6 1 1]\n",
      "[1 6 1]\n",
      "[1 1 6]\n",
      "[1 1 6]\n",
      "[1 1 6]\n",
      "[6 1 1 6 1]\n",
      "[1 1 6 1]\n",
      "[1 6 1]\n",
      "[ 1  6  1 31]\n",
      "[1 6 1]\n",
      "[ 1  6 31  1]\n",
      "[1 6 1 1 1 1]\n",
      "[1 6 1 1]\n",
      "[1 6 1 1]\n",
      "[1 1 1 6]\n",
      "[1 1 1]\n",
      "[1 1 1]\n",
      "[1 1 1]\n",
      "[1 1 1]\n",
      "[1 1 1]\n",
      "[1 1 1]\n",
      "[1 1 1]\n",
      "[ 1  1  1  6 41]\n",
      "[ 1  1  6 41]\n",
      "[1 1 6]\n",
      "[1 1 6]\n",
      "[1 1 6]\n",
      "[1 6 1]\n",
      "[1 6 1]\n",
      "[1 6 1]\n",
      "[1 6]\n",
      "[1 1 6]\n",
      "[1 1]\n",
      "[1 1 1]\n",
      "[1 1 1]\n",
      "[1 1 1 6 1]\n",
      "[1 1 1 1 6]\n",
      "[1 1 1 6]\n",
      "[1 1 1]\n",
      "[1 1 1]\n",
      "[1 1 1]\n",
      "[1 1 3 1]\n",
      "[1 3 1]\n",
      "[1 3]\n",
      "[1 3]\n",
      "[1 3]\n",
      "[1 3]\n",
      "[1]\n",
      "[1]\n",
      "[1]\n",
      "[1 6]\n",
      "[6]\n",
      "()\n",
      "()\n",
      "()\n",
      "()\n",
      "[1 1 1 1]\n",
      "[1 1]\n",
      "[1]\n",
      "[1 1]\n",
      "[1 6 1 6]\n",
      "[1 6 1 6]\n",
      "[1 1 1 6]\n",
      "[1 1 6 6]\n",
      "[1 6 1 6 1]\n",
      "[1 1 6 1 1]\n",
      "[1 1 1 6 1]\n",
      "[1 1 6 1 1]\n",
      "[1 6 1 1 1]\n",
      "[1 6 1 1 1]\n",
      "[6 1 1 1 1]\n",
      "[6 1 1 1 1]\n",
      "[6 1 1 1 1]\n",
      "[1 6 1 1 1]\n",
      "[1 6 1 1 1]\n",
      "[6 1 1 1 1]\n",
      "[6 1 1 1 1]\n",
      "[6 1 1 1 1]\n",
      "[6 1 1 1 1]\n",
      "[6 1 1 1 1]\n",
      "[6 1 1 1 1]\n",
      "[6 1 1 1 1]\n",
      "[6 1 1 1 1]\n",
      "[6 1 1 1 1]\n",
      "[6 1 1 1 1]\n",
      "[6 1 1 1 1 3]\n",
      "[6 1 1 1 1]\n",
      "[6 1 1 1 1 1]\n",
      "[6 1 1 1 1 1]\n"
     ]
    }
   ],
   "source": [
    "# videos\n",
    "\n",
    "cap=cv2.VideoCapture('pexels-george-morina-5932788 (1080p).mp4')\n",
    "font_scale=0.5\n",
    "font=cv2.FONT_HERSHEY_SIMPLEX\n",
    "\n",
    "while True:\n",
    "    ret,frame=cap.read()\n",
    "    \n",
    "    class_index,confidence,bbox=model.detect(frame,confThreshold=0.50)\n",
    "    \n",
    "    print(class_index)\n",
    "    \n",
    "    if len(class_index)!=0:\n",
    "        for classind,conf,box in zip(class_index.flatten(),confidence.flatten(),bbox):\n",
    "            if(classind<=80):\n",
    "                cv2.rectangle(frame,box,(255,0,0),2)\n",
    "                cv2.putText(frame,class_labels[classind-1],(box[0]+10,box[1]+40),font,font_scale,(0,255,0),2)\n",
    "                cv2.putText(frame,str(round(conf*100,1)),(box[0]+100,box[1]+40),font,font_scale,(0,0,255),2)\n",
    "    \n",
    "    \n",
    "    cv2.imshow('Objects detection',frame)\n",
    "    \n",
    "    if cv2.waitKey(2) & 0xff==ord('q'):\n",
    "        break\n",
    "    \n",
    "cap.release()\n",
    "cv2.destroyAllWindows()"
   ]
  },
  {
   "cell_type": "code",
   "execution_count": null,
   "id": "9a6e4f95",
   "metadata": {},
   "outputs": [],
   "source": []
  }
 ],
 "metadata": {
  "kernelspec": {
   "display_name": "Python 3 (ipykernel)",
   "language": "python",
   "name": "python3"
  },
  "language_info": {
   "codemirror_mode": {
    "name": "ipython",
    "version": 3
   },
   "file_extension": ".py",
   "mimetype": "text/x-python",
   "name": "python",
   "nbconvert_exporter": "python",
   "pygments_lexer": "ipython3",
   "version": "3.10.13"
  }
 },
 "nbformat": 4,
 "nbformat_minor": 5
}
