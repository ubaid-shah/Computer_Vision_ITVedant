{
 "cells": [
  {
   "cell_type": "markdown",
   "id": "28c70263",
   "metadata": {},
   "source": [
    "I see steps are scattered in different answers. Based on my recent experience with this pytesseract error on Windows, writing different steps in sequence to make it easier to resolve the error:\n",
    "\n",
    "1. Install tesseract using windows installer available at: https://github.com/UB-Mannheim/tesseract/wiki\n",
    "\n",
    "2. Note the tesseract path from the installation. Default installation path at the time of this edit was: \"C:/OCR/Tesseract-OCR\". It may change so please check the installation path. Set the path in the environment variables.\n",
    "\n",
    "3. pip install pytesseract\n",
    "\n",
    "4. pip install tesseract\n",
    "\n",
    "5. copy \"eng.traineddata\" file from \"C:\\Program Files\\Tesseract-OCR\\tessdata\" and paste it in \"C:\\Program Files\\Tesseract-OCR\"\n",
    "\n",
    "6. [optional]:\n",
    "Add this line to your python script every time\n",
    "\n",
    "pytesseract.pytesseract.tesseract_cmd = 'C:/OCR/Tesseract-OCR/tesseract.exe'"
   ]
  },
  {
   "cell_type": "code",
   "execution_count": null,
   "id": "d99f2bbe",
   "metadata": {},
   "outputs": [],
   "source": [
    "pytesseract.pytesseract.tesseract_cmd  = 'C:\\Program Files\\Tesseract-OCR\\tesseract.exe'"
   ]
  },
  {
   "cell_type": "code",
   "execution_count": null,
   "id": "a3d10846",
   "metadata": {},
   "outputs": [],
   "source": []
  },
  {
   "cell_type": "code",
   "execution_count": null,
   "id": "35e33cf2",
   "metadata": {},
   "outputs": [],
   "source": [
    "import cv2\n",
    "from pytesseract import Output\n",
    "import pytesseract\n",
    "# import numpy as np\n",
    "\n",
    "img = cv2.imread('t.png')\n",
    "\n",
    "# # convert the image to grayscale\n",
    "img_gray = cv2.cvtColor(img, cv2.COLOR_BGR2GRAY)\n",
    "\n",
    "# # # threshold the image\n",
    "\n",
    "ret, thresh = cv2.threshold(img_gray, 127, 255, cv2.THRESH_BINARY)\n",
    "\n",
    "# # remove the noise\n",
    "blur= cv2.medianBlur(thresh,5)\n",
    "ed=cv2.Canny(thresh,100,200)\n",
    "dila=cv2.dilate(ed,np.ones((1,1),dtype=np.uint8))\n",
    "\n",
    "\n",
    "print(pytesseract.image_to_string(dila))"
   ]
  },
  {
   "cell_type": "code",
   "execution_count": null,
   "id": "455e6014",
   "metadata": {},
   "outputs": [],
   "source": [
    "cv2.imshow('ocr',ed)\n",
    "cv2.waitKey(0) & 0xFF\n",
    "cv2.destroyAllWindows()"
   ]
  },
  {
   "cell_type": "code",
   "execution_count": null,
   "id": "13ec357a",
   "metadata": {},
   "outputs": [],
   "source": []
  },
  {
   "cell_type": "code",
   "execution_count": null,
   "id": "0547690f",
   "metadata": {},
   "outputs": [],
   "source": [
    "image = cv2.imread('life.png')\n",
    "results = pytesseract.image_to_data(image,output_type=Output.DICT)"
   ]
  },
  {
   "cell_type": "code",
   "execution_count": null,
   "id": "823f6de3",
   "metadata": {},
   "outputs": [],
   "source": [
    "print(results)"
   ]
  },
  {
   "cell_type": "code",
   "execution_count": null,
   "id": "352c3e88",
   "metadata": {},
   "outputs": [],
   "source": [
    "for k,v in results.items():\n",
    "    print('{}: {}'.format(k,v))"
   ]
  },
  {
   "cell_type": "code",
   "execution_count": null,
   "id": "26f4b871",
   "metadata": {},
   "outputs": [],
   "source": [
    "print(results['text'])"
   ]
  },
  {
   "cell_type": "code",
   "execution_count": null,
   "id": "d698e5e4",
   "metadata": {},
   "outputs": [],
   "source": [
    "for i in range(0, len(results['text'])):\n",
    "    x = results['left'][i]\n",
    "    y = results['top'][i]\n",
    "\n",
    "    w = results['width'][i]\n",
    "    h = results['height'][i]\n",
    "\n",
    "    text = results['text'][i]\n",
    "    conf = int(results['conf'][i])\n",
    "\n",
    "    if conf > 70:\n",
    "        text = \"\".join([c if ord(c) < 128 else \"\" for c in text]).strip()\n",
    "        cv2.rectangle(image, (x, y), (x + w, y + h), (0, 255, 0), 2)\n",
    "        cv2.putText(image, text, (x, y - 10), cv2.FONT_HERSHEY_SIMPLEX, 0.5, (0, 0, 200), 2)"
   ]
  },
  {
   "cell_type": "code",
   "execution_count": null,
   "id": "af1157c7",
   "metadata": {},
   "outputs": [],
   "source": [
    "img=cv2.resize(image,(490,735))\n",
    "cv2.imshow('image',img)\n",
    "cv2.waitKey(0)\n",
    "cv2.destroyAllWindows()"
   ]
  },
  {
   "cell_type": "code",
   "execution_count": null,
   "id": "2be1eaa5",
   "metadata": {},
   "outputs": [],
   "source": []
  },
  {
   "cell_type": "code",
   "execution_count": null,
   "id": "9ef6855c",
   "metadata": {},
   "outputs": [],
   "source": []
  }
 ],
 "metadata": {
  "kernelspec": {
   "display_name": "Python 3 (ipykernel)",
   "language": "python",
   "name": "python3"
  },
  "language_info": {
   "codemirror_mode": {
    "name": "ipython",
    "version": 3
   },
   "file_extension": ".py",
   "mimetype": "text/x-python",
   "name": "python",
   "nbconvert_exporter": "python",
   "pygments_lexer": "ipython3",
   "version": "3.10.13"
  }
 },
 "nbformat": 4,
 "nbformat_minor": 5
}
